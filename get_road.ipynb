{
  "nbformat": 4,
  "nbformat_minor": 0,
  "metadata": {
    "colab": {
      "name": "get_road.ipynb",
      "provenance": [],
      "authorship_tag": "ABX9TyPUEs8tmyHDTpfYld5OcKIF",
      "include_colab_link": true
    },
    "kernelspec": {
      "name": "python3",
      "display_name": "Python 3"
    },
    "language_info": {
      "name": "python"
    }
  },
  "cells": [
    {
      "cell_type": "markdown",
      "metadata": {
        "id": "view-in-github",
        "colab_type": "text"
      },
      "source": [
        "<a href=\"https://colab.research.google.com/github/Kimjibeom/LSTM/blob/main/get_road.ipynb\" target=\"_parent\"><img src=\"https://colab.research.google.com/assets/colab-badge.svg\" alt=\"Open In Colab\"/></a>"
      ]
    },
    {
      "cell_type": "markdown",
      "metadata": {
        "id": "_sJs6gGYIKms"
      },
      "source": [
        "# Google Drive 마운트 하기\n"
      ]
    },
    {
      "cell_type": "code",
      "metadata": {
        "id": "pnT0f1BYIHEl"
      },
      "source": [
        "from google.colab import drive\n",
        "drive.mount('/content/drive')"
      ],
      "execution_count": null,
      "outputs": []
    },
    {
      "cell_type": "code",
      "metadata": {
        "id": "J5Du3UQUIG4J"
      },
      "source": [
        "# 경로 설정\n",
        "import os\n",
        "os.chdir('/content/drive/My Drive/')"
      ],
      "execution_count": null,
      "outputs": []
    },
    {
      "cell_type": "code",
      "metadata": {
        "id": "e7_ylT31H3kQ"
      },
      "source": [
        "import pandas as pd\n",
        "from glob import glob\n",
        "import datetime\n",
        "df = pd.read_csv(\"/content/drive/MyDrive/data/preprocessing_2021.5.9~2021.9.23.csv\")\n",
        "\n",
        "road_list = df[\"지점\"].unique()\n",
        "'''['갈매로교차로1 ~ 금사교고가차도동편' '금사교고가차도동편 ~ 갈매로교차로1' '노드_070 ~ 노드_069'\n",
        " '노드_069 ~ 노드_070' '연서치안센터 ~ 월암교남측' '월암교남측 ~ 연서치안센터' '- ~ 송악교' '송악교 ~ -'\n",
        " '마음그린한의원 ~ 새내4길시점' '새내4길시점 ~ 마음그린한의원' '조치원여자중학교 ~ 조치원읍사무소'\n",
        " '조치원읍사무소 ~ 조치원여자중학교' '- ~ 시목교(북측)' '시목교(북측) ~ -' '시청입구 ~ 교육청후문'\n",
        " '교육청후문 ~ 시청입구' '문곡교차로 ~ 부강터널' '부강터널 ~ 문곡교차로' '세종-공주경계 ~ 와룡로입구'\n",
        " '와룡로입구 ~ 세종-공주경계' '세종로교차로1 ~ 두만2리교차로2' '두만리오일뱅크앞 ~ 두만2리교차로2'\n",
        " '올망초등학교 ~ 다정동' '다정동 ~ 올망초등학교' '원수산로교차로3 ~ 절재로교차로' '절재로교차로 ~ 원수산로교차로3'\n",
        " '수산IC교 북서 ~ 모개고가차도' '모개고가차도 ~ 수산IC교 북서' '상리사거리 ~ 조치원로1' '조치원로1 ~ 상리사거리'\n",
        " '예양교차로남측 ~ 문주1교북측' '문주1교북측 ~ 예양교차로남측' '장남교차로 ~ 금남교앞' '금남교앞 ~ 장남교차로'\n",
        " '부강교차로2 ~ 부강교차로1' '부강교차로1 ~ 부강교차로2' 'e마트남측교차로 ~ -' '- ~ e마트남측교차로'\n",
        " '송암교 ~ -' '연동중학교입구 ~ 응암삼거리' '응암삼거리 ~ 연동중학교입구' '조치원교 ~ 조치원지하차도앞'\n",
        " '조치원지하차도앞 ~ 조치원교' '송문리 ~ 송학사거리' '송학사거리 ~ 송문리' '노드_143 ~ 노드_142'\n",
        " '노드_142 ~ 노드_143' '한누리대로지하4남측 ~ 한누리대로지하5북측' '한누리대로지하5북측 ~ 한누리대로지하4남측'\n",
        " '한누리대로지하4북측 ~ 도시통합정보센터앞사거리' '도시통합정보센터앞사거리 ~ 한누리대로지하4북측'\n",
        " '노드_146 ~ 한누리대로고가2남측' '한누리대로고가2남측 ~ 노드_146' '4-1생활권(한누리대로) ~ 반곡동(한누리대로)'\n",
        " '반곡동(한누리대로) ~ 4-1생활권(한누리대로)' '교육청앞 ~ 여울초교앞' '여울초교앞 ~ 교육청앞'\n",
        " '한누리대로고가2북측 ~ 양지초교사거리' '양지초교사거리 ~ 한누리대로고가2북측']'''\n",
        "\n",
        "start = datetime.date(2020,1,1)\n",
        "end = datetime.date(2021,12,31)\n",
        "weekend_list = []\n",
        "while start <= end:\n",
        "    if start.weekday() == 5 or start.weekday() == 6:\n",
        "        weekend_list.append(start)\n",
        "    #print(start)\n",
        "    start = start+datetime.timedelta(days=1)\n",
        "with open(\"./holly_list.txt\", \"r\") as f:\n",
        "    a = f.readlines()\n",
        "    for i in a:\n",
        "        i = i.strip()\n",
        "        obj_Date = datetime.datetime.strptime(i, \"%Y-%m-%d\").date()\n",
        "        weekend_list.append(obj_Date)\n",
        "weekend_str_list = []\n",
        "for i in weekend_list:\n",
        "    weekend_str_list.append(i.strftime(\"%Y{0}%m{1}%d{2}\").format(*\"년월일\"))\n",
        "\n",
        "for i in road_list:\n",
        "    get_df = df[df[\"지점\"] == i]\n",
        "    get_df.to_csv(f\"./seperated/{i}.csv\", encoding='utf-8-sig')"
      ],
      "execution_count": null,
      "outputs": []
    }
  ]
}