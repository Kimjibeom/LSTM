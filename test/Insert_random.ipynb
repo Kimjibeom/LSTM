{
  "nbformat": 4,
  "nbformat_minor": 0,
  "metadata": {
    "colab": {
      "name": "Insert_random.ipynb",
      "provenance": []
    },
    "kernelspec": {
      "name": "python3",
      "display_name": "Python 3"
    },
    "language_info": {
      "name": "python"
    }
  },
  "cells": [
    {
      "cell_type": "code",
      "metadata": {
        "id": "A6BM7AfdaZKt"
      },
      "source": [
        "from pymongo import MongoClient\n",
        "from dateutil import parser\n",
        "from datetime import datetime, timedelta\n",
        "import random\n",
        "# DB 연결\n",
        "#db = conn.get_database(\"traffic_Sejong\")"
      ],
      "execution_count": 1,
      "outputs": []
    },
    {
      "cell_type": "code",
      "metadata": {
        "id": "yZCuym84adEX"
      },
      "source": [
        "def make_coll(category):\n",
        "    collections = db.get_collection(category)\n",
        "    return collections\n",
        "\n",
        "def upsert_DB(info, category):\n",
        "    coll_category = make_coll(category)\n",
        "    for i in info:\n",
        "        coll_category.replace_one({\"Date\":i[\"Date\"]}, i , upsert=True)\n",
        "\n",
        "def get_DB(dateStr, category):\n",
        "    coll_category = make_coll(category)\n",
        "    dateISO = parser.parse(dateStr)\n",
        "    obj_train = coll_category.aggregate([{\"$match\":{\"Date\":{\"$lt\":dateISO}}},\n",
        "                                {\"$project\":{\"_id\":0, \"Date\":1, \"High\":1, \"Low\":1, \"Open\":1, \"Close\":1}},\n",
        "                                {\"$sort\":{\"Date\":1}}])\n",
        "\n",
        "    obj_test = coll_category.aggregate([{\"$match\":{\"Date\":{\"$gte\":dateISO}}},\n",
        "                                {\"$project\":{\"_id\":0, \"Date\":1, \"High\":1, \"Low\":1, \"Open\":1, \"Close\":1}},\n",
        "                                {\"$sort\":{\"Date\":1}}])\n",
        "    return (list(obj_train), list(obj_test))"
      ],
      "execution_count": 2,
      "outputs": []
    },
    {
      "cell_type": "code",
      "metadata": {
        "colab": {
          "base_uri": "https://localhost:8080/",
          "height": 190
        },
        "id": "4qmEhPWSfizf",
        "outputId": "67898e63-c83a-4e40-b18c-ec4101aeee3d"
      },
      "source": [
        "coll_list = db.list_collection_names()\n",
        "pred_list = [coll+'_pred' for coll in coll_list]"
      ],
      "execution_count": 3,
      "outputs": [
        {
          "output_type": "error",
          "ename": "NameError",
          "evalue": "ignored",
          "traceback": [
            "\u001b[0;31m---------------------------------------------------------------------------\u001b[0m",
            "\u001b[0;31mNameError\u001b[0m                                 Traceback (most recent call last)",
            "\u001b[0;32m<ipython-input-3-6311fcfac28c>\u001b[0m in \u001b[0;36m<module>\u001b[0;34m()\u001b[0m\n\u001b[0;32m----> 1\u001b[0;31m \u001b[0mcoll_list\u001b[0m \u001b[0;34m=\u001b[0m \u001b[0mdb\u001b[0m\u001b[0;34m.\u001b[0m\u001b[0mlist_collection_names\u001b[0m\u001b[0;34m(\u001b[0m\u001b[0;34m)\u001b[0m\u001b[0;34m\u001b[0m\u001b[0;34m\u001b[0m\u001b[0m\n\u001b[0m\u001b[1;32m      2\u001b[0m \u001b[0mpred_list\u001b[0m \u001b[0;34m=\u001b[0m \u001b[0;34m[\u001b[0m\u001b[0mcoll\u001b[0m\u001b[0;34m+\u001b[0m\u001b[0;34m'_pred'\u001b[0m \u001b[0;32mfor\u001b[0m \u001b[0mcoll\u001b[0m \u001b[0;32min\u001b[0m \u001b[0mcoll_list\u001b[0m\u001b[0;34m]\u001b[0m\u001b[0;34m\u001b[0m\u001b[0;34m\u001b[0m\u001b[0m\n",
            "\u001b[0;31mNameError\u001b[0m: name 'db' is not defined"
          ]
        }
      ]
    },
    {
      "cell_type": "code",
      "metadata": {
        "colab": {
          "base_uri": "https://localhost:8080/",
          "height": 172
        },
        "id": "GTidYH8wb4u-",
        "outputId": "919451ec-b405-440c-bf87-e7eed5a0fd4b"
      },
      "source": [
        "colls = [db.get_collection(coll_pred) for coll_pred in pred_list]"
      ],
      "execution_count": 4,
      "outputs": [
        {
          "output_type": "error",
          "ename": "NameError",
          "evalue": "ignored",
          "traceback": [
            "\u001b[0;31m---------------------------------------------------------------------------\u001b[0m",
            "\u001b[0;31mNameError\u001b[0m                                 Traceback (most recent call last)",
            "\u001b[0;32m<ipython-input-4-bbe7b0511630>\u001b[0m in \u001b[0;36m<module>\u001b[0;34m()\u001b[0m\n\u001b[0;32m----> 1\u001b[0;31m \u001b[0mcolls\u001b[0m \u001b[0;34m=\u001b[0m \u001b[0;34m[\u001b[0m\u001b[0mdb\u001b[0m\u001b[0;34m.\u001b[0m\u001b[0mget_collection\u001b[0m\u001b[0;34m(\u001b[0m\u001b[0mcoll_pred\u001b[0m\u001b[0;34m)\u001b[0m \u001b[0;32mfor\u001b[0m \u001b[0mcoll_pred\u001b[0m \u001b[0;32min\u001b[0m \u001b[0mpred_list\u001b[0m\u001b[0;34m]\u001b[0m\u001b[0;34m\u001b[0m\u001b[0;34m\u001b[0m\u001b[0m\n\u001b[0m",
            "\u001b[0;31mNameError\u001b[0m: name 'pred_list' is not defined"
          ]
        }
      ]
    },
    {
      "cell_type": "code",
      "metadata": {
        "id": "P5_sFiVTb5aD"
      },
      "source": [
        "datetime.now().strftime('%Y-%m-%d_%H:%M:%S')"
      ],
      "execution_count": null,
      "outputs": []
    },
    {
      "cell_type": "code",
      "metadata": {
        "id": "axvysUUpb8hd"
      },
      "source": [
        "for col in colls:\n",
        "    col.insert({f'{datetime.now().strftime(\"%Y-%m-%d_%H:%M:%S\")}':[random.uniform(0,100),\n",
        "                                     random.uniform(0,100),\n",
        "                                     random.uniform(0,100),\n",
        "                                     random.uniform(0,100),\n",
        "                                     random.uniform(0,100),\n",
        "                                     random.uniform(0,100),\n",
        "                                     random.uniform(0,100),\n",
        "                                     random.uniform(0,100),\n",
        "                                     random.uniform(0,100),\n",
        "                                     random.uniform(0,100),\n",
        "                                     random.uniform(0,100)]})"
      ],
      "execution_count": null,
      "outputs": []
    },
    {
      "cell_type": "code",
      "metadata": {
        "id": "VUKsg09xb-iL"
      },
      "source": [
        "x = db.get_collection(db.list_collection_names()[0])"
      ],
      "execution_count": null,
      "outputs": []
    },
    {
      "cell_type": "code",
      "metadata": {
        "id": "RcP6q26ub_rf"
      },
      "source": [
        "x.find_one()"
      ],
      "execution_count": null,
      "outputs": []
    }
  ]
}