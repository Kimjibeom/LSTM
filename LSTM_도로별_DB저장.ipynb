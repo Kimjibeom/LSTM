{
  "nbformat": 4,
  "nbformat_minor": 0,
  "metadata": {
    "colab": {
      "name": "LSTM 도로별 DB저장.ipynb",
      "provenance": [],
      "authorship_tag": "ABX9TyOKM351j6tjA1KWzsXYtoKn",
      "include_colab_link": true
    },
    "kernelspec": {
      "name": "python3",
      "display_name": "Python 3"
    },
    "language_info": {
      "name": "python"
    }
  },
  "cells": [
    {
      "cell_type": "markdown",
      "metadata": {
        "id": "view-in-github",
        "colab_type": "text"
      },
      "source": [
        "<a href=\"https://colab.research.google.com/github/Kimjibeom/LSTM/blob/main/LSTM_%EB%8F%84%EB%A1%9C%EB%B3%84_DB%EC%A0%80%EC%9E%A5.ipynb\" target=\"_parent\"><img src=\"https://colab.research.google.com/assets/colab-badge.svg\" alt=\"Open In Colab\"/></a>"
      ]
    },
    {
      "cell_type": "code",
      "metadata": {
        "colab": {
          "base_uri": "https://localhost:8080/"
        },
        "id": "IL7hdDTKg25b",
        "outputId": "edeb9a7d-a195-48e9-e4ac-60acc4173ad3"
      },
      "source": [
        "from google.colab import drive\n",
        "drive.mount('/content/drive')"
      ],
      "execution_count": 19,
      "outputs": [
        {
          "output_type": "stream",
          "name": "stdout",
          "text": [
            "Mounted at /content/drive\n"
          ]
        }
      ]
    },
    {
      "cell_type": "code",
      "metadata": {
        "id": "20XB9dkEg4UI"
      },
      "source": [
        "# 경로 설정\n",
        "import os\n",
        "os.chdir('/content/drive/My Drive/')"
      ],
      "execution_count": 20,
      "outputs": []
    },
    {
      "cell_type": "code",
      "metadata": {
        "id": "O7TR9Am1X0cR"
      },
      "source": [
        "import numpy as np\n",
        "import pandas as pd\n",
        "import seaborn as sns\n",
        "import matplotlib.pyplot as plt\n",
        "%matplotlib inline\n",
        "from sklearn.model_selection import train_test_split \n",
        "import tensorflow as tf\n",
        "import tensorflow.keras as K\n",
        "from tensorflow.keras import models\n",
        "from tensorflow.keras import layers\n",
        "from sklearn.metrics import accuracy_score\n",
        "import os\n",
        "import json\n",
        "from tensorflow.keras.callbacks import EarlyStopping,ModelCheckpoint\n",
        "from pymongo import MongoClient\n",
        "from dateutil import parser\n",
        "from datetime import datetime, timedelta\n",
        "# import lstm, time #도움을 주는 라이브러리들"
      ],
      "execution_count": 1,
      "outputs": []
    },
    {
      "cell_type": "code",
      "metadata": {
        "id": "YVA5t7SgX5_I"
      },
      "source": [
        "conn = MongoClient(\"mongodb://203.249.90.5\", 31010)\n",
        "db = conn.get_database(\"traffic_Sejong\")"
      ],
      "execution_count": 4,
      "outputs": []
    },
    {
      "cell_type": "code",
      "metadata": {
        "colab": {
          "base_uri": "https://localhost:8080/"
        },
        "id": "u8jsigIKX6PC",
        "outputId": "2448533f-e6d2-4afb-94b4-a95f22b9c200"
      },
      "source": [
        "coll_list = db.list_collection_names()\n",
        "print(coll_list)"
      ],
      "execution_count": 5,
      "outputs": [
        {
          "output_type": "stream",
          "name": "stdout",
          "text": [
            "['부강터널 ~ 문곡교차로', '새내4길시점 ~ 마음그린한의원', '- ~ 송악교', '여울초교앞 ~ 교육청앞', '조치원지하차도앞 ~ 조치원교', 'e마트남측교차로 ~ -', '조치원로1 ~ 상리사거리', '시청입구 ~ 교육청후문', '한누리대로고가2북측 ~ 양지초교사거리', '마음그린한의원 ~ 새내4길시점', '연동중학교입구 ~ 응암삼거리', '한누리대로지하4북측 ~ 도시통합정보센터앞사거리', '문곡교차로 ~ 부강터널', '노드_070 ~ 노드_069', '교육청앞 ~ 여울초교앞', '송학사거리 ~ 송문리', '조치원여자중학교 ~ 조치원읍사무소', '한누리대로고가2남측 ~ 노드_146', '시목교(북측) ~ -', '노드_069 ~ 노드_070', '올망초등학교 ~ 다정동', '수산IC교 북서 ~ 모개고가차도', '4-1생활권(한누리대로) ~ 반곡동(한누리대로)', '한누리대로지하5북측 ~ 한누리대로지하4남측', '양지초교사거리 ~ 한누리대로고가2북측', '- ~ 시목교(북측)', '반곡동(한누리대로) ~ 4-1생활권(한누리대로)', '한누리대로지하4남측 ~ 한누리대로지하5북측', '노드_143 ~ 노드_142', '와룡로입구 ~ 세종-공주경계', '조치원읍사무소 ~ 조치원여자중학교', '노드_142 ~ 노드_143', '노드_146 ~ 한누리대로고가2남측', '송문리 ~ 송학사거리', '도시통합정보센터앞사거리 ~ 한누리대로지하4북측', '세종-공주경계 ~ 와룡로입구', '상리사거리 ~ 조치원로1', '연서치안센터 ~ 월암교남측', '원수산로교차로3 ~ 절재로교차로', '- ~ e마트남측교차로', '다정동 ~ 올망초등학교', '갈매로교차로1 ~ 금사교고가차도동편', '월암교남측 ~ 연서치안센터', '응암삼거리 ~ 연동중학교입구', '송암교 ~ -', '문주1교북측 ~ 예양교차로남측', '부강교차로1 ~ 부강교차로2', '장남교차로 ~ 금남교앞', '송악교 ~ -', '모개고가차도 ~ 수산IC교 북서', '조치원교 ~ 조치원지하차도앞', '금사교고가차도동편 ~ 갈매로교차로1']\n"
          ]
        }
      ]
    },
    {
      "cell_type": "code",
      "metadata": {
        "id": "uKF_XwdsX6zr"
      },
      "source": [
        "a=[]   # 갈매로\n",
        "b=[]   # 당산로\n",
        "c=[]   # 산학리길\n",
        "d=[]   # 새내로\n",
        "e=[]   # 시목부강로\n",
        "f=[]   # 시청대로\n",
        "g=[]   # 연청로\n",
        "h=[]   # 용연로\n",
        "u=[]   # 일반국도36호선\n",
        "k=[]   # 절재로\n",
        "l=[]   # 정안세종로\n",
        "m=[]   # 조치원로\n",
        "n=[]   # 지방도604호선\n",
        "o=[]   # 지방도96호선\n",
        "p=[]   # 청연로\n",
        "q=[]   # 충현로\n",
        "r=[]   # 평기길\n",
        "s=[]   # 한누리대로"
      ],
      "execution_count": 6,
      "outputs": []
    },
    {
      "cell_type": "code",
      "metadata": {
        "id": "g2wZu_DUYCBY"
      },
      "source": [
        "for i in coll_list:\n",
        "    tmp_col = db.get_collection(i)\n",
        "    for j in tmp_col.find().limit(25000):\n",
        "        if j['도로명'] == '갈매로':\n",
        "              a.append(j)\n",
        "        if j['도로명'] == '당산로':\n",
        "              b.append(j)\n",
        "        if j['도로명'] == '산학리길':\n",
        "              c.append(j)\n",
        "        if j['도로명'] == '새내로':\n",
        "              d.append(j)\n",
        "        if j['도로명'] == '시목부강로':\n",
        "              e.append(j)\n",
        "        if j['도로명'] == '시청대로':\n",
        "              f.append(j)\n",
        "        if j['도로명'] == '연청로':\n",
        "              g.append(j)                    \n",
        "        if j['도로명'] == '용연로':\n",
        "              h.append(j)\n",
        "        if j['도로명'] == '일반국도36호선':\n",
        "              u.append(j)\n",
        "        if j['도로명'] == '절재로':\n",
        "              k.append(j)\n",
        "        if j['도로명'] == '정안세종로':\n",
        "              l.append(j)\n",
        "        if j['도로명'] == '조치원로':\n",
        "              m.append(j)\n",
        "        if j['도로명'] == '지방도604호선':\n",
        "              n.append(j)\n",
        "        if j['도로명'] == '지방도96호선':\n",
        "              o.append(j)\n",
        "        if j['도로명'] == '청연로':\n",
        "              p.append(j)\n",
        "        if j['도로명'] == '충현로':\n",
        "              q.append(j)\n",
        "        if j['도로명'] == '평기길':\n",
        "              r.append(j)\n",
        "        if j['도로명'] == '한누리대로':\n",
        "             s.append(j)"
      ],
      "execution_count": 8,
      "outputs": []
    },
    {
      "cell_type": "code",
      "metadata": {
        "id": "3n2zR7eWcTx3"
      },
      "source": [
        "df_a = pd.DataFrame(a)\n",
        "df_b = pd.DataFrame(b)\n",
        "df_c = pd.DataFrame(c)\n",
        "df_d = pd.DataFrame(d)\n",
        "df_e = pd.DataFrame(e)\n",
        "df_f = pd.DataFrame(f)\n",
        "df_g = pd.DataFrame(g)\n",
        "df_h = pd.DataFrame(h)\n",
        "df_u = pd.DataFrame(u)\n",
        "df_k = pd.DataFrame(k)\n",
        "df_l = pd.DataFrame(l)\n",
        "df_m = pd.DataFrame(m)\n",
        "df_n = pd.DataFrame(n)\n",
        "df_o = pd.DataFrame(o)\n",
        "df_p = pd.DataFrame(p)\n",
        "df_q = pd.DataFrame(q)\n",
        "df_r = pd.DataFrame(r)\n",
        "df_s = pd.DataFrame(s)"
      ],
      "execution_count": 9,
      "outputs": []
    },
    {
      "cell_type": "code",
      "metadata": {
        "colab": {
          "base_uri": "https://localhost:8080/",
          "height": 424
        },
        "id": "5TEFUxkbcTvb",
        "outputId": "397b6c39-3ca5-48ff-97f6-3e16a3fab9b6"
      },
      "source": [
        "df_s"
      ],
      "execution_count": 10,
      "outputs": [
        {
          "output_type": "execute_result",
          "data": {
            "text/html": [
              "<div>\n",
              "<style scoped>\n",
              "    .dataframe tbody tr th:only-of-type {\n",
              "        vertical-align: middle;\n",
              "    }\n",
              "\n",
              "    .dataframe tbody tr th {\n",
              "        vertical-align: top;\n",
              "    }\n",
              "\n",
              "    .dataframe thead th {\n",
              "        text-align: right;\n",
              "    }\n",
              "</style>\n",
              "<table border=\"1\" class=\"dataframe\">\n",
              "  <thead>\n",
              "    <tr style=\"text-align: right;\">\n",
              "      <th></th>\n",
              "      <th>_id</th>\n",
              "      <th></th>\n",
              "      <th>Datetime</th>\n",
              "      <th>도로명</th>\n",
              "      <th>위치</th>\n",
              "      <th>지점</th>\n",
              "      <th>방향</th>\n",
              "      <th>도로총교통량</th>\n",
              "      <th>평균통행속도</th>\n",
              "      <th>점유율</th>\n",
              "      <th>휴일</th>\n",
              "    </tr>\n",
              "  </thead>\n",
              "  <tbody>\n",
              "    <tr>\n",
              "      <th>0</th>\n",
              "      <td>6167eb51968ab64b23956a73</td>\n",
              "      <td>1224</td>\n",
              "      <td>2019001001  12:00:00 AM</td>\n",
              "      <td>한누리대로</td>\n",
              "      <td>세종 교육청(국책연구단지)</td>\n",
              "      <td>여울초교앞 ~ 교육청앞</td>\n",
              "      <td>상행</td>\n",
              "      <td>123</td>\n",
              "      <td>59.5</td>\n",
              "      <td>2.135</td>\n",
              "      <td>1</td>\n",
              "    </tr>\n",
              "    <tr>\n",
              "      <th>1</th>\n",
              "      <td>6167eb51968ab64b23956a74</td>\n",
              "      <td>1225</td>\n",
              "      <td>2019001001  1:00:00 AM</td>\n",
              "      <td>한누리대로</td>\n",
              "      <td>세종 교육청(국책연구단지)</td>\n",
              "      <td>여울초교앞 ~ 교육청앞</td>\n",
              "      <td>상행</td>\n",
              "      <td>99</td>\n",
              "      <td>59.75</td>\n",
              "      <td>2.25625</td>\n",
              "      <td>1</td>\n",
              "    </tr>\n",
              "    <tr>\n",
              "      <th>2</th>\n",
              "      <td>6167eb51968ab64b23956a75</td>\n",
              "      <td>1226</td>\n",
              "      <td>2019001001  2:00:00 AM</td>\n",
              "      <td>한누리대로</td>\n",
              "      <td>세종 교육청(국책연구단지)</td>\n",
              "      <td>여울초교앞 ~ 교육청앞</td>\n",
              "      <td>상행</td>\n",
              "      <td>49</td>\n",
              "      <td>60.375</td>\n",
              "      <td>1.85375</td>\n",
              "      <td>1</td>\n",
              "    </tr>\n",
              "    <tr>\n",
              "      <th>3</th>\n",
              "      <td>6167eb51968ab64b23956a76</td>\n",
              "      <td>1227</td>\n",
              "      <td>2019001001  3:00:00 AM</td>\n",
              "      <td>한누리대로</td>\n",
              "      <td>세종 교육청(국책연구단지)</td>\n",
              "      <td>여울초교앞 ~ 교육청앞</td>\n",
              "      <td>상행</td>\n",
              "      <td>27</td>\n",
              "      <td>63.5714</td>\n",
              "      <td>1.93</td>\n",
              "      <td>1</td>\n",
              "    </tr>\n",
              "    <tr>\n",
              "      <th>4</th>\n",
              "      <td>6167eb51968ab64b23956a77</td>\n",
              "      <td>1228</td>\n",
              "      <td>2019001001  4:00:00 AM</td>\n",
              "      <td>한누리대로</td>\n",
              "      <td>세종 교육청(국책연구단지)</td>\n",
              "      <td>여울초교앞 ~ 교육청앞</td>\n",
              "      <td>상행</td>\n",
              "      <td>18</td>\n",
              "      <td>62</td>\n",
              "      <td>1.56</td>\n",
              "      <td>1</td>\n",
              "    </tr>\n",
              "    <tr>\n",
              "      <th>...</th>\n",
              "      <td>...</td>\n",
              "      <td>...</td>\n",
              "      <td>...</td>\n",
              "      <td>...</td>\n",
              "      <td>...</td>\n",
              "      <td>...</td>\n",
              "      <td>...</td>\n",
              "      <td>...</td>\n",
              "      <td>...</td>\n",
              "      <td>...</td>\n",
              "      <td>...</td>\n",
              "    </tr>\n",
              "    <tr>\n",
              "      <th>319915</th>\n",
              "      <td>6167ea26968ab64b238f2098</td>\n",
              "      <td>174883</td>\n",
              "      <td>2021년09월22일 19시</td>\n",
              "      <td>한누리대로</td>\n",
              "      <td>도시통합운영센터앞</td>\n",
              "      <td>도시통합정보센터앞사거리 ~ 한누리대로지하4북측</td>\n",
              "      <td>상행</td>\n",
              "      <td>578</td>\n",
              "      <td>49.125</td>\n",
              "      <td>5.455</td>\n",
              "      <td>1</td>\n",
              "    </tr>\n",
              "    <tr>\n",
              "      <th>319916</th>\n",
              "      <td>6167ea26968ab64b238f2099</td>\n",
              "      <td>174884</td>\n",
              "      <td>2021년09월22일 20시</td>\n",
              "      <td>한누리대로</td>\n",
              "      <td>도시통합운영센터앞</td>\n",
              "      <td>도시통합정보센터앞사거리 ~ 한누리대로지하4북측</td>\n",
              "      <td>상행</td>\n",
              "      <td>510</td>\n",
              "      <td>50</td>\n",
              "      <td>4.94875</td>\n",
              "      <td>1</td>\n",
              "    </tr>\n",
              "    <tr>\n",
              "      <th>319917</th>\n",
              "      <td>6167ea26968ab64b238f209a</td>\n",
              "      <td>174885</td>\n",
              "      <td>2021년09월22일 21시</td>\n",
              "      <td>한누리대로</td>\n",
              "      <td>도시통합운영센터앞</td>\n",
              "      <td>도시통합정보센터앞사거리 ~ 한누리대로지하4북측</td>\n",
              "      <td>상행</td>\n",
              "      <td>402</td>\n",
              "      <td>50.375</td>\n",
              "      <td>4.195</td>\n",
              "      <td>1</td>\n",
              "    </tr>\n",
              "    <tr>\n",
              "      <th>319918</th>\n",
              "      <td>6167ea26968ab64b238f209b</td>\n",
              "      <td>174886</td>\n",
              "      <td>2021년09월22일 22시</td>\n",
              "      <td>한누리대로</td>\n",
              "      <td>도시통합운영센터앞</td>\n",
              "      <td>도시통합정보센터앞사거리 ~ 한누리대로지하4북측</td>\n",
              "      <td>상행</td>\n",
              "      <td>369</td>\n",
              "      <td>51.75</td>\n",
              "      <td>3.56125</td>\n",
              "      <td>1</td>\n",
              "    </tr>\n",
              "    <tr>\n",
              "      <th>319919</th>\n",
              "      <td>6167ea26968ab64b238f209c</td>\n",
              "      <td>174887</td>\n",
              "      <td>2021년09월22일 23시</td>\n",
              "      <td>한누리대로</td>\n",
              "      <td>도시통합운영센터앞</td>\n",
              "      <td>도시통합정보센터앞사거리 ~ 한누리대로지하4북측</td>\n",
              "      <td>상행</td>\n",
              "      <td>203</td>\n",
              "      <td>54.625</td>\n",
              "      <td>2.645</td>\n",
              "      <td>1</td>\n",
              "    </tr>\n",
              "  </tbody>\n",
              "</table>\n",
              "<p>319920 rows × 11 columns</p>\n",
              "</div>"
            ],
            "text/plain": [
              "                             _id          ...      점유율 휴일\n",
              "0       6167eb51968ab64b23956a73    1224  ...    2.135  1\n",
              "1       6167eb51968ab64b23956a74    1225  ...  2.25625  1\n",
              "2       6167eb51968ab64b23956a75    1226  ...  1.85375  1\n",
              "3       6167eb51968ab64b23956a76    1227  ...     1.93  1\n",
              "4       6167eb51968ab64b23956a77    1228  ...     1.56  1\n",
              "...                          ...     ...  ...      ... ..\n",
              "319915  6167ea26968ab64b238f2098  174883  ...    5.455  1\n",
              "319916  6167ea26968ab64b238f2099  174884  ...  4.94875  1\n",
              "319917  6167ea26968ab64b238f209a  174885  ...    4.195  1\n",
              "319918  6167ea26968ab64b238f209b  174886  ...  3.56125  1\n",
              "319919  6167ea26968ab64b238f209c  174887  ...    2.645  1\n",
              "\n",
              "[319920 rows x 11 columns]"
            ]
          },
          "metadata": {},
          "execution_count": 10
        }
      ]
    },
    {
      "cell_type": "code",
      "metadata": {
        "id": "MKpUC_K0cTr3"
      },
      "source": [
        "C:/Users/jus22/Desktop/도로 데이터"
      ],
      "execution_count": null,
      "outputs": []
    },
    {
      "cell_type": "code",
      "metadata": {
        "id": "0soag90xcTgg"
      },
      "source": [
        "df_a.to_csv(\"/content/drive/MyDrive/data/도로/df_a.csv\", encoding=\"utf-8-sig\")\n",
        "df_b.to_csv(\"/content/drive/MyDrive/data/도로/df_b.csv\", encoding=\"utf-8-sig\")\n",
        "df_c.to_csv(\"/content/drive/MyDrive/data/도로/df_c.csv\", encoding=\"utf-8-sig\")\n",
        "df_d.to_csv(\"/content/drive/MyDrive/data/도로/df_d.csv\", encoding=\"utf-8-sig\")\n",
        "df_e.to_csv(\"/content/drive/MyDrive/data/도로/df_e.csv\", encoding=\"utf-8-sig\")\n",
        "df_f.to_csv(\"/content/drive/MyDrive/data/도로/df_f.csv\", encoding=\"utf-8-sig\")\n",
        "df_g.to_csv(\"/content/drive/MyDrive/data/도로/df_g.csv\", encoding=\"utf-8-sig\")\n",
        "df_h.to_csv(\"/content/drive/MyDrive/data/도로/df_h.csv\", encoding=\"utf-8-sig\")\n",
        "df_u.to_csv(\"/content/drive/MyDrive/data/도로/df_u.csv\", encoding=\"utf-8-sig\")\n",
        "df_k.to_csv(\"/content/drive/MyDrive/data/도로/df_k.csv\", encoding=\"utf-8-sig\")\n",
        "df_l.to_csv(\"/content/drive/MyDrive/data/도로/df_l.csv\", encoding=\"utf-8-sig\")\n",
        "df_m.to_csv(\"/content/drive/MyDrive/data/도로/df_m.csv\", encoding=\"utf-8-sig\")\n",
        "df_n.to_csv(\"/content/drive/MyDrive/data/도로/df_n.csv\", encoding=\"utf-8-sig\")\n",
        "df_o.to_csv(\"/content/drive/MyDrive/data/도로/df_o.csv\", encoding=\"utf-8-sig\")\n",
        "df_p.to_csv(\"/content/drive/MyDrive/data/도로/df_p.csv\", encoding=\"utf-8-sig\")\n",
        "df_q.to_csv(\"/content/drive/MyDrive/data/도로/df_q.csv\", encoding=\"utf-8-sig\")\n",
        "df_r.to_csv(\"/content/drive/MyDrive/data/도로/df_r.csv\", encoding=\"utf-8-sig\")\n",
        "df_s.to_csv(\"/content/drive/MyDrive/data/도로/df_s.csv\", encoding=\"utf-8-sig\")"
      ],
      "execution_count": 22,
      "outputs": []
    },
    {
      "cell_type": "code",
      "metadata": {
        "id": "FNywWHCV3hFO"
      },
      "source": [
        ""
      ],
      "execution_count": null,
      "outputs": []
    }
  ]
}