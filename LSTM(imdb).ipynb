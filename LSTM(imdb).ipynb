{
  "nbformat": 4,
  "nbformat_minor": 0,
  "metadata": {
    "colab": {
      "name": "LSTM(imdb).ipynb",
      "provenance": [],
      "authorship_tag": "ABX9TyMfpHZbYciJ36opfn3+Es5I",
      "include_colab_link": true
    },
    "kernelspec": {
      "name": "python3",
      "display_name": "Python 3"
    },
    "language_info": {
      "name": "python"
    }
  },
  "cells": [
    {
      "cell_type": "markdown",
      "metadata": {
        "id": "view-in-github",
        "colab_type": "text"
      },
      "source": [
        "<a href=\"https://colab.research.google.com/github/Kimjibeom/LSTM/blob/main/LSTM(imdb).ipynb\" target=\"_parent\"><img src=\"https://colab.research.google.com/assets/colab-badge.svg\" alt=\"Open In Colab\"/></a>"
      ]
    },
    {
      "cell_type": "markdown",
      "metadata": {
        "id": "mRVY6VcBjE2T"
      },
      "source": [
        "# LSTM 신경망 훈련하기"
      ]
    },
    {
      "cell_type": "markdown",
      "metadata": {
        "id": "H5s1Kwx7jD2J"
      },
      "source": [
        "IMDB 리뷰 데이터를 로드하고 훈련 세트와 검증 세트로 나눕니다."
      ]
    },
    {
      "cell_type": "code",
      "metadata": {
        "colab": {
          "base_uri": "https://localhost:8080/"
        },
        "id": "g1wigVyKijzS",
        "outputId": "a5d77814-cc82-4e3b-9a71-98296f2de83f"
      },
      "source": [
        "from tensorflow.keras.datasets import imdb\n",
        "from sklearn.model_selection import train_test_split\n",
        "(train_input, train_target), (test_input, test_target) = imdb.load_data(num_words=500)\n",
        "train_input, val_input, train_target, val_target = train_test_split(train_input, train_target, test_size=0.2, random_state=42)"
      ],
      "execution_count": 3,
      "outputs": [
        {
          "output_type": "stream",
          "name": "stdout",
          "text": [
            "Downloading data from https://storage.googleapis.com/tensorflow/tf-keras-datasets/imdb.npz\n",
            "17465344/17464789 [==============================] - 0s 0us/step\n",
            "17473536/17464789 [==============================] - 0s 0us/step\n"
          ]
        }
      ]
    },
    {
      "cell_type": "markdown",
      "metadata": {
        "id": "r9kpIr-Kjq6h"
      },
      "source": [
        "케라스의 pad_sequences() 함수로 각 샘플의 길이를 100에 맞추고 부족할 때는 패딩을 추가합니다."
      ]
    },
    {
      "cell_type": "code",
      "metadata": {
        "id": "t8NJ_Nwsjj0T"
      },
      "source": [
        "from tensorflow.keras.preprocessing.sequence import pad_sequences\n",
        "train_seq = pad_sequences(train_input, maxlen=100)\n",
        "val_seq = pad_sequences(val_input, maxlen=100)"
      ],
      "execution_count": 5,
      "outputs": []
    },
    {
      "cell_type": "markdown",
      "metadata": {
        "id": "z1nwhLfDkMfs"
      },
      "source": [
        "LSTM 셀을 사용한 순환층 생성"
      ]
    },
    {
      "cell_type": "code",
      "metadata": {
        "id": "UH7cd1mFkJTN"
      },
      "source": [
        "from tensorflow import keras\n",
        "model = keras.Sequential()\n",
        "model.add(keras.layers.Embedding(500,16, input_length=100))\n",
        "model.add(keras.layers.LSTM(8))\n",
        "model.add(keras.layers.Dense(1, activation='sigmoid'))"
      ],
      "execution_count": 6,
      "outputs": []
    },
    {
      "cell_type": "markdown",
      "metadata": {
        "id": "5A0v1BZGkrGw"
      },
      "source": [
        "모델 구조 출력"
      ]
    },
    {
      "cell_type": "code",
      "metadata": {
        "colab": {
          "base_uri": "https://localhost:8080/"
        },
        "id": "27TMThpnkqaQ",
        "outputId": "7372bf1a-07fa-4d83-bea5-5400ce59ce91"
      },
      "source": [
        "model.summary()"
      ],
      "execution_count": 7,
      "outputs": [
        {
          "output_type": "stream",
          "name": "stdout",
          "text": [
            "Model: \"sequential\"\n",
            "_________________________________________________________________\n",
            "Layer (type)                 Output Shape              Param #   \n",
            "=================================================================\n",
            "embedding (Embedding)        (None, 100, 16)           8000      \n",
            "_________________________________________________________________\n",
            "lstm (LSTM)                  (None, 8)                 800       \n",
            "_________________________________________________________________\n",
            "dense (Dense)                (None, 1)                 9         \n",
            "=================================================================\n",
            "Total params: 8,809\n",
            "Trainable params: 8,809\n",
            "Non-trainable params: 0\n",
            "_________________________________________________________________\n"
          ]
        }
      ]
    },
    {
      "cell_type": "markdown",
      "metadata": {
        "id": "fX4MG5Rlk4vJ"
      },
      "source": [
        "LSTM 모델 파라미터 개수는 800개\n",
        "모델을 컴파일하고 훈련\n",
        "- 배치 크기 : 64개\n",
        "- 에포크 횟수 : 100\n",
        "\n",
        "체크포인트와 조기 종료를 위한 코드"
      ]
    },
    {
      "cell_type": "code",
      "metadata": {
        "colab": {
          "base_uri": "https://localhost:8080/"
        },
        "id": "e3sXc1NfkwWE",
        "outputId": "df5ecb99-f4cf-4119-f355-a0393b926fee"
      },
      "source": [
        "rmsprop = keras.optimizers.RMSprop(learning_rate = 1e-4)\n",
        "model.compile(optimizer=rmsprop, loss='binary_crossentropy',\n",
        "              metrics=['accuracy'])\n",
        "checkpoint_cb = keras.callbacks.ModelCheckpoint('best-lstm-model.h5')\n",
        "early_stopping_cb = keras.callbacks.EarlyStopping(patience=3,\n",
        "                                                  restore_best_weights=True)\n",
        "history = model.fit(train_seq, train_target, epochs=100, batch_size= 64,\n",
        "                    validation_data=(val_seq, val_target),\n",
        "                    callbacks=[checkpoint_cb, early_stopping_cb])"
      ],
      "execution_count": 9,
      "outputs": [
        {
          "output_type": "stream",
          "name": "stdout",
          "text": [
            "Epoch 1/100\n",
            "313/313 [==============================] - 17s 47ms/step - loss: 0.6926 - accuracy: 0.5254 - val_loss: 0.6920 - val_accuracy: 0.5362\n",
            "Epoch 2/100\n",
            "313/313 [==============================] - 14s 45ms/step - loss: 0.6904 - accuracy: 0.5914 - val_loss: 0.6890 - val_accuracy: 0.6136\n",
            "Epoch 3/100\n",
            "313/313 [==============================] - 14s 45ms/step - loss: 0.6855 - accuracy: 0.6325 - val_loss: 0.6818 - val_accuracy: 0.6512\n",
            "Epoch 4/100\n",
            "313/313 [==============================] - 14s 45ms/step - loss: 0.6729 - accuracy: 0.6707 - val_loss: 0.6609 - val_accuracy: 0.6828\n",
            "Epoch 5/100\n",
            "313/313 [==============================] - 14s 46ms/step - loss: 0.6180 - accuracy: 0.7137 - val_loss: 0.5731 - val_accuracy: 0.7206\n",
            "Epoch 6/100\n",
            "313/313 [==============================] - 14s 45ms/step - loss: 0.5530 - accuracy: 0.7373 - val_loss: 0.5453 - val_accuracy: 0.7436\n",
            "Epoch 7/100\n",
            "313/313 [==============================] - 14s 45ms/step - loss: 0.5292 - accuracy: 0.7569 - val_loss: 0.5251 - val_accuracy: 0.7582\n",
            "Epoch 8/100\n",
            "313/313 [==============================] - 14s 45ms/step - loss: 0.5110 - accuracy: 0.7692 - val_loss: 0.5098 - val_accuracy: 0.7658\n",
            "Epoch 9/100\n",
            "313/313 [==============================] - 14s 45ms/step - loss: 0.4958 - accuracy: 0.7786 - val_loss: 0.4971 - val_accuracy: 0.7756\n",
            "Epoch 10/100\n",
            "313/313 [==============================] - 15s 46ms/step - loss: 0.4826 - accuracy: 0.7846 - val_loss: 0.4880 - val_accuracy: 0.7810\n",
            "Epoch 11/100\n",
            "313/313 [==============================] - 14s 46ms/step - loss: 0.4714 - accuracy: 0.7907 - val_loss: 0.4769 - val_accuracy: 0.7874\n",
            "Epoch 12/100\n",
            "313/313 [==============================] - 14s 45ms/step - loss: 0.4619 - accuracy: 0.7972 - val_loss: 0.4729 - val_accuracy: 0.7820\n",
            "Epoch 13/100\n",
            "313/313 [==============================] - 14s 45ms/step - loss: 0.4541 - accuracy: 0.7997 - val_loss: 0.4632 - val_accuracy: 0.7936\n",
            "Epoch 14/100\n",
            "313/313 [==============================] - 14s 46ms/step - loss: 0.4473 - accuracy: 0.8030 - val_loss: 0.4689 - val_accuracy: 0.7822\n",
            "Epoch 15/100\n",
            "313/313 [==============================] - 14s 45ms/step - loss: 0.4419 - accuracy: 0.8038 - val_loss: 0.4542 - val_accuracy: 0.7958\n",
            "Epoch 16/100\n",
            "313/313 [==============================] - 14s 45ms/step - loss: 0.4370 - accuracy: 0.8073 - val_loss: 0.4532 - val_accuracy: 0.7936\n",
            "Epoch 17/100\n",
            "313/313 [==============================] - 14s 46ms/step - loss: 0.4338 - accuracy: 0.8091 - val_loss: 0.4495 - val_accuracy: 0.7982\n",
            "Epoch 18/100\n",
            "313/313 [==============================] - 14s 45ms/step - loss: 0.4305 - accuracy: 0.8094 - val_loss: 0.4468 - val_accuracy: 0.7984\n",
            "Epoch 19/100\n",
            "313/313 [==============================] - 14s 45ms/step - loss: 0.4277 - accuracy: 0.8117 - val_loss: 0.4453 - val_accuracy: 0.7980\n",
            "Epoch 20/100\n",
            "313/313 [==============================] - 14s 46ms/step - loss: 0.4255 - accuracy: 0.8125 - val_loss: 0.4455 - val_accuracy: 0.7970\n",
            "Epoch 21/100\n",
            "313/313 [==============================] - 14s 46ms/step - loss: 0.4235 - accuracy: 0.8115 - val_loss: 0.4435 - val_accuracy: 0.8004\n",
            "Epoch 22/100\n",
            "313/313 [==============================] - 14s 45ms/step - loss: 0.4220 - accuracy: 0.8126 - val_loss: 0.4411 - val_accuracy: 0.7970\n",
            "Epoch 23/100\n",
            "313/313 [==============================] - 14s 44ms/step - loss: 0.4203 - accuracy: 0.8122 - val_loss: 0.4423 - val_accuracy: 0.8000\n",
            "Epoch 24/100\n",
            "313/313 [==============================] - 14s 44ms/step - loss: 0.4189 - accuracy: 0.8135 - val_loss: 0.4407 - val_accuracy: 0.8012\n",
            "Epoch 25/100\n",
            "313/313 [==============================] - 14s 44ms/step - loss: 0.4179 - accuracy: 0.8130 - val_loss: 0.4385 - val_accuracy: 0.8016\n",
            "Epoch 26/100\n",
            "313/313 [==============================] - 14s 44ms/step - loss: 0.4165 - accuracy: 0.8140 - val_loss: 0.4380 - val_accuracy: 0.8022\n",
            "Epoch 27/100\n",
            "313/313 [==============================] - 14s 45ms/step - loss: 0.4151 - accuracy: 0.8142 - val_loss: 0.4374 - val_accuracy: 0.8020\n",
            "Epoch 28/100\n",
            "313/313 [==============================] - 14s 44ms/step - loss: 0.4144 - accuracy: 0.8156 - val_loss: 0.4374 - val_accuracy: 0.8028\n",
            "Epoch 29/100\n",
            "313/313 [==============================] - 14s 45ms/step - loss: 0.4134 - accuracy: 0.8136 - val_loss: 0.4378 - val_accuracy: 0.8022\n",
            "Epoch 30/100\n",
            "313/313 [==============================] - 14s 45ms/step - loss: 0.4126 - accuracy: 0.8137 - val_loss: 0.4373 - val_accuracy: 0.7956\n",
            "Epoch 31/100\n",
            "313/313 [==============================] - 14s 45ms/step - loss: 0.4115 - accuracy: 0.8148 - val_loss: 0.4347 - val_accuracy: 0.8022\n",
            "Epoch 32/100\n",
            "313/313 [==============================] - 14s 45ms/step - loss: 0.4110 - accuracy: 0.8159 - val_loss: 0.4358 - val_accuracy: 0.7972\n",
            "Epoch 33/100\n",
            "313/313 [==============================] - 14s 45ms/step - loss: 0.4107 - accuracy: 0.8146 - val_loss: 0.4383 - val_accuracy: 0.8014\n",
            "Epoch 34/100\n",
            "313/313 [==============================] - 14s 45ms/step - loss: 0.4095 - accuracy: 0.8151 - val_loss: 0.4371 - val_accuracy: 0.8034\n"
          ]
        }
      ]
    },
    {
      "cell_type": "markdown",
      "metadata": {
        "id": "6-mlxGIvm4Iq"
      },
      "source": [
        "# 훈련 손실과 검증 손실 그래프"
      ]
    },
    {
      "cell_type": "code",
      "metadata": {
        "colab": {
          "base_uri": "https://localhost:8080/",
          "height": 279
        },
        "id": "gyQ5DzmRmW0n",
        "outputId": "b48c3729-4cba-4317-c1ba-e48d240f156f"
      },
      "source": [
        "import matplotlib.pyplot as plt\n",
        "plt.plot(history.history['loss'])\n",
        "plt.plot(history.history['val_loss'])\n",
        "plt.xlabel('epoch')\n",
        "plt.ylabel('loss')\n",
        "plt.legend(['train','val'])\n",
        "plt.show()"
      ],
      "execution_count": 11,
      "outputs": [
        {
          "output_type": "display_data",
          "data": {
            "image/png": "[encoded data removed]",
            "text/plain": [
              "<Figure size 432x288 with 1 Axes>"
            ]
          },
          "metadata": {
            "needs_background": "light"
          }
        }
      ]
    },
    {
      "cell_type": "markdown",
      "metadata": {
        "id": "asdbfO7voy4Q"
      },
      "source": [
        "과대적합을 억제하고 있지만 더 강하게 제어할 필요가 있음."
      ]
    },
    {
      "cell_type": "markdown",
      "metadata": {
        "id": "FTMN4SkQo7at"
      },
      "source": [
        "# 순환층에 드롭아웃 적용하기"
      ]
    },
    {
      "cell_type": "markdown",
      "metadata": {
        "id": "tPbj4jAgpCez"
      },
      "source": [
        "순환층은 자체적으로 드롭아웃 기능을 제공한다. \n",
        "\n",
        "드롭아웃 -> 은닉층에 있는 뉴런의 출력을 랜던하게 꺼서 과대적합을 막는 기법입니다.\n"
      ]
    },
    {
      "cell_type": "markdown",
      "metadata": {
        "id": "xdlUe5l7picF"
      },
      "source": [
        "dropout 매개변수는 셀의 입력에 드롭아웃을 적용\n",
        "\n",
        "recurrent_dropout은 순환되는 은닉 상태에 드롭아웃을 적용\n",
        "\n",
        "\n",
        "하지만 기술적인 문제로 인해 recurrent_dropout을 사용하면 GPU를 사용하여 모델을 훈련하지 못한다. => 모델의 훈련 속도가 크게 느려짐\n",
        "\n",
        "따라서 여기서는 dropout만을 사용하여 구현"
      ]
    },
    {
      "cell_type": "code",
      "metadata": {
        "id": "47bmYTpuo_If"
      },
      "source": [
        "model2 = keras.Sequential()\n",
        "model2.add(keras.layers.Embedding(500, 16, input_length=100))\n",
        "model2.add(keras.layers.LSTM(8, dropout=0.3))\n",
        "model2.add(keras.layers.Dense(1, activation='sigmoid'))"
      ],
      "execution_count": 10,
      "outputs": []
    },
    {
      "cell_type": "code",
      "metadata": {
        "colab": {
          "base_uri": "https://localhost:8080/"
        },
        "id": "1ZlCdzeJqiyd",
        "outputId": "038acea8-86b8-486f-96e8-3b6c0bf661df"
      },
      "source": [
        "rmsprop = keras.optimizers.RMSprop(learning_rate = 1e-4)\n",
        "model2.compile(optimizer=rmsprop, loss='binary_crossentropy',\n",
        "              metrics=['accuracy'])\n",
        "checkpoint_cb = keras.callbacks.ModelCheckpoint('best-dropout-model.h5')\n",
        "early_stopping_cb = keras.callbacks.EarlyStopping(patience=3,\n",
        "                                                  restore_best_weights=True)\n",
        "history = model2.fit(train_seq, train_target, epochs=100, batch_size= 64,\n",
        "                    validation_data=(val_seq, val_target),\n",
        "                    callbacks=[checkpoint_cb, early_stopping_cb])"
      ],
      "execution_count": 12,
      "outputs": [
        {
          "output_type": "stream",
          "name": "stdout",
          "text": [
            "Epoch 1/100\n",
            "313/313 [==============================] - 17s 48ms/step - loss: 0.6926 - accuracy: 0.5351 - val_loss: 0.6919 - val_accuracy: 0.5882\n",
            "Epoch 2/100\n",
            "313/313 [==============================] - 14s 46ms/step - loss: 0.6905 - accuracy: 0.6112 - val_loss: 0.6887 - val_accuracy: 0.6508\n",
            "Epoch 3/100\n",
            "313/313 [==============================] - 15s 47ms/step - loss: 0.6831 - accuracy: 0.6610 - val_loss: 0.6727 - val_accuracy: 0.6856\n",
            "Epoch 4/100\n",
            "313/313 [==============================] - 15s 46ms/step - loss: 0.6401 - accuracy: 0.6942 - val_loss: 0.6150 - val_accuracy: 0.6946\n",
            "Epoch 5/100\n",
            "313/313 [==============================] - 14s 46ms/step - loss: 0.6061 - accuracy: 0.7063 - val_loss: 0.5956 - val_accuracy: 0.7180\n",
            "Epoch 6/100\n",
            "313/313 [==============================] - 14s 46ms/step - loss: 0.5892 - accuracy: 0.7211 - val_loss: 0.5783 - val_accuracy: 0.7286\n",
            "Epoch 7/100\n",
            "313/313 [==============================] - 15s 46ms/step - loss: 0.5723 - accuracy: 0.7355 - val_loss: 0.5654 - val_accuracy: 0.7396\n",
            "Epoch 8/100\n",
            "313/313 [==============================] - 15s 47ms/step - loss: 0.5550 - accuracy: 0.7494 - val_loss: 0.5480 - val_accuracy: 0.7524\n",
            "Epoch 9/100\n",
            "313/313 [==============================] - 15s 47ms/step - loss: 0.5407 - accuracy: 0.7560 - val_loss: 0.5315 - val_accuracy: 0.7604\n",
            "Epoch 10/100\n",
            "313/313 [==============================] - 15s 47ms/step - loss: 0.5238 - accuracy: 0.7670 - val_loss: 0.5173 - val_accuracy: 0.7732\n",
            "Epoch 11/100\n",
            "313/313 [==============================] - 15s 46ms/step - loss: 0.5093 - accuracy: 0.7745 - val_loss: 0.5082 - val_accuracy: 0.7730\n",
            "Epoch 12/100\n",
            "313/313 [==============================] - 15s 47ms/step - loss: 0.4981 - accuracy: 0.7791 - val_loss: 0.4961 - val_accuracy: 0.7808\n",
            "Epoch 13/100\n",
            "313/313 [==============================] - 14s 46ms/step - loss: 0.4867 - accuracy: 0.7860 - val_loss: 0.4861 - val_accuracy: 0.7836\n",
            "Epoch 14/100\n",
            "313/313 [==============================] - 14s 46ms/step - loss: 0.4784 - accuracy: 0.7875 - val_loss: 0.4802 - val_accuracy: 0.7864\n",
            "Epoch 15/100\n",
            "313/313 [==============================] - 15s 47ms/step - loss: 0.4718 - accuracy: 0.7905 - val_loss: 0.4740 - val_accuracy: 0.7884\n",
            "Epoch 16/100\n",
            "313/313 [==============================] - 15s 47ms/step - loss: 0.4648 - accuracy: 0.7939 - val_loss: 0.4686 - val_accuracy: 0.7898\n",
            "Epoch 17/100\n",
            "313/313 [==============================] - 15s 47ms/step - loss: 0.4606 - accuracy: 0.7964 - val_loss: 0.4653 - val_accuracy: 0.7942\n",
            "Epoch 18/100\n",
            "313/313 [==============================] - 15s 46ms/step - loss: 0.4552 - accuracy: 0.7981 - val_loss: 0.4606 - val_accuracy: 0.7896\n",
            "Epoch 19/100\n",
            "313/313 [==============================] - 15s 47ms/step - loss: 0.4521 - accuracy: 0.7990 - val_loss: 0.4582 - val_accuracy: 0.7910\n",
            "Epoch 20/100\n",
            "313/313 [==============================] - 15s 47ms/step - loss: 0.4478 - accuracy: 0.7992 - val_loss: 0.4556 - val_accuracy: 0.7946\n",
            "Epoch 21/100\n",
            "313/313 [==============================] - 15s 47ms/step - loss: 0.4435 - accuracy: 0.8014 - val_loss: 0.4523 - val_accuracy: 0.7954\n",
            "Epoch 22/100\n",
            "313/313 [==============================] - 15s 47ms/step - loss: 0.4398 - accuracy: 0.8038 - val_loss: 0.4492 - val_accuracy: 0.7956\n",
            "Epoch 23/100\n",
            "313/313 [==============================] - 15s 47ms/step - loss: 0.4381 - accuracy: 0.8022 - val_loss: 0.4478 - val_accuracy: 0.7964\n",
            "Epoch 24/100\n",
            "313/313 [==============================] - 15s 47ms/step - loss: 0.4348 - accuracy: 0.8023 - val_loss: 0.4446 - val_accuracy: 0.7970\n",
            "Epoch 25/100\n",
            "313/313 [==============================] - 15s 47ms/step - loss: 0.4321 - accuracy: 0.8051 - val_loss: 0.4457 - val_accuracy: 0.7978\n",
            "Epoch 26/100\n",
            "313/313 [==============================] - 15s 48ms/step - loss: 0.4311 - accuracy: 0.8048 - val_loss: 0.4410 - val_accuracy: 0.7972\n",
            "Epoch 27/100\n",
            "313/313 [==============================] - 15s 47ms/step - loss: 0.4269 - accuracy: 0.8074 - val_loss: 0.4399 - val_accuracy: 0.7974\n",
            "Epoch 28/100\n",
            "313/313 [==============================] - 15s 48ms/step - loss: 0.4270 - accuracy: 0.8059 - val_loss: 0.4391 - val_accuracy: 0.7998\n",
            "Epoch 29/100\n",
            "313/313 [==============================] - 15s 47ms/step - loss: 0.4263 - accuracy: 0.8049 - val_loss: 0.4374 - val_accuracy: 0.7978\n",
            "Epoch 30/100\n",
            "313/313 [==============================] - 15s 47ms/step - loss: 0.4236 - accuracy: 0.8056 - val_loss: 0.4366 - val_accuracy: 0.7958\n",
            "Epoch 31/100\n",
            "313/313 [==============================] - 15s 47ms/step - loss: 0.4222 - accuracy: 0.8084 - val_loss: 0.4350 - val_accuracy: 0.7988\n",
            "Epoch 32/100\n",
            "313/313 [==============================] - 15s 47ms/step - loss: 0.4207 - accuracy: 0.8099 - val_loss: 0.4353 - val_accuracy: 0.7982\n",
            "Epoch 33/100\n",
            "313/313 [==============================] - 15s 48ms/step - loss: 0.4194 - accuracy: 0.8080 - val_loss: 0.4377 - val_accuracy: 0.7934\n",
            "Epoch 34/100\n",
            "313/313 [==============================] - 15s 47ms/step - loss: 0.4184 - accuracy: 0.8077 - val_loss: 0.4341 - val_accuracy: 0.8014\n",
            "Epoch 35/100\n",
            "313/313 [==============================] - 15s 46ms/step - loss: 0.4179 - accuracy: 0.8079 - val_loss: 0.4337 - val_accuracy: 0.7984\n",
            "Epoch 36/100\n",
            "313/313 [==============================] - 15s 47ms/step - loss: 0.4186 - accuracy: 0.8103 - val_loss: 0.4331 - val_accuracy: 0.8010\n",
            "Epoch 37/100\n",
            "313/313 [==============================] - 15s 47ms/step - loss: 0.4155 - accuracy: 0.8110 - val_loss: 0.4320 - val_accuracy: 0.8016\n",
            "Epoch 38/100\n",
            "313/313 [==============================] - 15s 47ms/step - loss: 0.4164 - accuracy: 0.8102 - val_loss: 0.4311 - val_accuracy: 0.8016\n",
            "Epoch 39/100\n",
            "313/313 [==============================] - 15s 47ms/step - loss: 0.4135 - accuracy: 0.8109 - val_loss: 0.4317 - val_accuracy: 0.8010\n",
            "Epoch 40/100\n",
            "313/313 [==============================] - 15s 47ms/step - loss: 0.4129 - accuracy: 0.8102 - val_loss: 0.4323 - val_accuracy: 0.7986\n",
            "Epoch 41/100\n",
            "313/313 [==============================] - 15s 47ms/step - loss: 0.4140 - accuracy: 0.8093 - val_loss: 0.4304 - val_accuracy: 0.8026\n",
            "Epoch 42/100\n",
            "313/313 [==============================] - 15s 47ms/step - loss: 0.4128 - accuracy: 0.8099 - val_loss: 0.4323 - val_accuracy: 0.8018\n",
            "Epoch 43/100\n",
            "313/313 [==============================] - 15s 47ms/step - loss: 0.4120 - accuracy: 0.8112 - val_loss: 0.4296 - val_accuracy: 0.8022\n",
            "Epoch 44/100\n",
            "313/313 [==============================] - 15s 47ms/step - loss: 0.4117 - accuracy: 0.8111 - val_loss: 0.4301 - val_accuracy: 0.8020\n",
            "Epoch 45/100\n",
            "313/313 [==============================] - 14s 46ms/step - loss: 0.4125 - accuracy: 0.8109 - val_loss: 0.4290 - val_accuracy: 0.8010\n",
            "Epoch 46/100\n",
            "313/313 [==============================] - 15s 47ms/step - loss: 0.4101 - accuracy: 0.8088 - val_loss: 0.4304 - val_accuracy: 0.8036\n",
            "Epoch 47/100\n",
            "313/313 [==============================] - 15s 47ms/step - loss: 0.4108 - accuracy: 0.8119 - val_loss: 0.4288 - val_accuracy: 0.8006\n",
            "Epoch 48/100\n",
            "313/313 [==============================] - 15s 47ms/step - loss: 0.4086 - accuracy: 0.8119 - val_loss: 0.4294 - val_accuracy: 0.8014\n",
            "Epoch 49/100\n",
            "313/313 [==============================] - 15s 47ms/step - loss: 0.4082 - accuracy: 0.8109 - val_loss: 0.4303 - val_accuracy: 0.8030\n",
            "Epoch 50/100\n",
            "313/313 [==============================] - 15s 47ms/step - loss: 0.4100 - accuracy: 0.8123 - val_loss: 0.4282 - val_accuracy: 0.8016\n",
            "Epoch 51/100\n",
            "313/313 [==============================] - 15s 47ms/step - loss: 0.4081 - accuracy: 0.8130 - val_loss: 0.4287 - val_accuracy: 0.8000\n",
            "Epoch 52/100\n",
            "313/313 [==============================] - 15s 47ms/step - loss: 0.4093 - accuracy: 0.8115 - val_loss: 0.4285 - val_accuracy: 0.8012\n",
            "Epoch 53/100\n",
            "313/313 [==============================] - 15s 47ms/step - loss: 0.4083 - accuracy: 0.8126 - val_loss: 0.4279 - val_accuracy: 0.8002\n",
            "Epoch 54/100\n",
            "313/313 [==============================] - 15s 47ms/step - loss: 0.4079 - accuracy: 0.8112 - val_loss: 0.4288 - val_accuracy: 0.8014\n",
            "Epoch 55/100\n",
            "313/313 [==============================] - 15s 47ms/step - loss: 0.4069 - accuracy: 0.8120 - val_loss: 0.4288 - val_accuracy: 0.8006\n",
            "Epoch 56/100\n",
            "313/313 [==============================] - 14s 46ms/step - loss: 0.4074 - accuracy: 0.8109 - val_loss: 0.4278 - val_accuracy: 0.7994\n",
            "Epoch 57/100\n",
            "313/313 [==============================] - 15s 46ms/step - loss: 0.4061 - accuracy: 0.8126 - val_loss: 0.4303 - val_accuracy: 0.7994\n",
            "Epoch 58/100\n",
            "313/313 [==============================] - 15s 46ms/step - loss: 0.4038 - accuracy: 0.8141 - val_loss: 0.4285 - val_accuracy: 0.7998\n",
            "Epoch 59/100\n",
            "313/313 [==============================] - 15s 47ms/step - loss: 0.4054 - accuracy: 0.8120 - val_loss: 0.4352 - val_accuracy: 0.8000\n"
          ]
        }
      ]
    },
    {
      "cell_type": "code",
      "metadata": {
        "colab": {
          "base_uri": "https://localhost:8080/",
          "height": 279
        },
        "id": "O2Jtku1Vq3l0",
        "outputId": "92aec519-4c7b-408c-f678-e20083ba7e3f"
      },
      "source": [
        "plt.plot(history.history['loss'])\n",
        "plt.plot(history.history['val_loss'])\n",
        "plt.xlabel('epoch')\n",
        "plt.ylabel('loss')\n",
        "plt.legend(['train','val'])\n",
        "plt.show()"
      ],
      "execution_count": 13,
      "outputs": [
        {
          "output_type": "display_data",
          "data": {
            "image/png": "[encoded data removed]",
            "text/plain": [
              "<Figure size 432x288 with 1 Axes>"
            ]
          },
          "metadata": {
            "needs_background": "light"
          }
        }
      ]
    },
    {
      "cell_type": "code",
      "metadata": {
        "id": "ZCTdmsDOs_El"
      },
      "source": [
        ""
      ],
      "execution_count": null,
      "outputs": []
    }
  ]
}